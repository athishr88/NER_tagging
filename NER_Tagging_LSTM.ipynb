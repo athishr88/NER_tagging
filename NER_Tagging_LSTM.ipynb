{
 "cells": [
  {
   "cell_type": "markdown",
   "id": "d81b852c",
   "metadata": {},
   "source": [
    "# NER Tagging with Bidirectional LSTM"
   ]
  },
  {
   "cell_type": "markdown",
   "id": "98b40dfc",
   "metadata": {},
   "source": [
    "#### importing necessary packages"
   ]
  },
  {
   "cell_type": "code",
   "execution_count": 1,
   "id": "2bc290ea",
   "metadata": {},
   "outputs": [
    {
     "name": "stderr",
     "output_type": "stream",
     "text": [
      "C:\\ProgramData\\Anaconda3\\lib\\site-packages\\pandas\\util\\_decorators.py:311: ParserWarning: Falling back to the 'python' engine because the 'c' engine does not support regex separators (separators > 1 char and different from '\\s+' are interpreted as regex); you can avoid this warning by specifying engine='python'.\n",
      "  return func(*args, **kwargs)\n"
     ]
    },
    {
     "data": {
      "text/html": [
       "<div>\n",
       "<style scoped>\n",
       "    .dataframe tbody tr th:only-of-type {\n",
       "        vertical-align: middle;\n",
       "    }\n",
       "\n",
       "    .dataframe tbody tr th {\n",
       "        vertical-align: top;\n",
       "    }\n",
       "\n",
       "    .dataframe thead th {\n",
       "        text-align: right;\n",
       "    }\n",
       "</style>\n",
       "<table border=\"1\" class=\"dataframe\">\n",
       "  <thead>\n",
       "    <tr style=\"text-align: right;\">\n",
       "      <th></th>\n",
       "      <th>Length</th>\n",
       "      <th>Word</th>\n",
       "      <th>Tag</th>\n",
       "    </tr>\n",
       "  </thead>\n",
       "  <tbody>\n",
       "    <tr>\n",
       "      <th>0</th>\n",
       "      <td>1</td>\n",
       "      <td>Comparison</td>\n",
       "      <td>O</td>\n",
       "    </tr>\n",
       "    <tr>\n",
       "      <th>1</th>\n",
       "      <td>2</td>\n",
       "      <td>with</td>\n",
       "      <td>O</td>\n",
       "    </tr>\n",
       "    <tr>\n",
       "      <th>2</th>\n",
       "      <td>3</td>\n",
       "      <td>alkaline</td>\n",
       "      <td>B</td>\n",
       "    </tr>\n",
       "    <tr>\n",
       "      <th>3</th>\n",
       "      <td>4</td>\n",
       "      <td>phosphatases</td>\n",
       "      <td>I</td>\n",
       "    </tr>\n",
       "    <tr>\n",
       "      <th>4</th>\n",
       "      <td>5</td>\n",
       "      <td>and</td>\n",
       "      <td>O</td>\n",
       "    </tr>\n",
       "  </tbody>\n",
       "</table>\n",
       "</div>"
      ],
      "text/plain": [
       "   Length          Word Tag\n",
       "0       1    Comparison   O\n",
       "1       2          with   O\n",
       "2       3      alkaline   B\n",
       "3       4  phosphatases   I\n",
       "4       5           and   O"
      ]
     },
     "execution_count": 1,
     "metadata": {},
     "output_type": "execute_result"
    }
   ],
   "source": [
    "import pandas as pd\n",
    "import numpy as np\n",
    "data = pd.read_csv('S21-gene-train.txt', encoding= 'unicode_escape', sep=\"\\\\t\", names = [\"Length\", \"Word\", \"Tag\"])\n",
    "data.head()"
   ]
  },
  {
   "cell_type": "markdown",
   "id": "80b43e5b",
   "metadata": {},
   "source": [
    "#### convert and map tokens and tags to integer values"
   ]
  },
  {
   "cell_type": "code",
   "execution_count": 2,
   "id": "153e3620",
   "metadata": {},
   "outputs": [],
   "source": [
    "\n",
    "from itertools import chain\n",
    "def get_dict_map(data, token_or_tag):\n",
    "     tok2idx = {}\n",
    "     idx2tok = {}\n",
    "\n",
    "     if token_or_tag == 'token':\n",
    "         vocab = list(set(data['Word'].to_list()))\n",
    "     else:\n",
    "         vocab = list(set(data['Tag'].to_list()))\n",
    "\n",
    "     idx2tok = {idx:tok for idx, tok in enumerate(vocab)}\n",
    "     tok2idx = {tok:idx for idx, tok in enumerate(vocab)}\n",
    "     return tok2idx, idx2tok\n",
    "token2idx, idx2token = get_dict_map(data, 'token')\n",
    "tag2idx, idx2tag = get_dict_map(data, 'tag')"
   ]
  },
  {
   "cell_type": "markdown",
   "id": "7efe006d",
   "metadata": {},
   "source": [
    "#### Creating new column in the main data structure for word and tag indices"
   ]
  },
  {
   "cell_type": "code",
   "execution_count": 3,
   "id": "1bc4e02e",
   "metadata": {},
   "outputs": [],
   "source": [
    "data['Word_idx'] = data['Word'].map(token2idx)\n",
    "data['Tag_idx'] = data['Tag'].map(tag2idx)\n"
   ]
  },
  {
   "cell_type": "markdown",
   "id": "6b89f7cc",
   "metadata": {},
   "source": [
    "#### Creating data groups on the basis of sentences"
   ]
  },
  {
   "cell_type": "code",
   "execution_count": 4,
   "id": "7111dc38",
   "metadata": {},
   "outputs": [
    {
     "name": "stderr",
     "output_type": "stream",
     "text": [
      "C:\\Users\\athis\\AppData\\Local\\Temp/ipykernel_10892/2098498756.py:2: SettingWithCopyWarning: \n",
      "A value is trying to be set on a copy of a slice from a DataFrame\n",
      "\n",
      "See the caveats in the documentation: https://pandas.pydata.org/pandas-docs/stable/user_guide/indexing.html#returning-a-view-versus-a-copy\n",
      "  data[\"Sentence\"][data[\"Sentence\"] > 1] = None\n"
     ]
    },
    {
     "data": {
      "text/html": [
       "<div>\n",
       "<style scoped>\n",
       "    .dataframe tbody tr th:only-of-type {\n",
       "        vertical-align: middle;\n",
       "    }\n",
       "\n",
       "    .dataframe tbody tr th {\n",
       "        vertical-align: top;\n",
       "    }\n",
       "\n",
       "    .dataframe thead th {\n",
       "        text-align: right;\n",
       "    }\n",
       "</style>\n",
       "<table border=\"1\" class=\"dataframe\">\n",
       "  <thead>\n",
       "    <tr style=\"text-align: right;\">\n",
       "      <th></th>\n",
       "      <th>Length</th>\n",
       "      <th>Word</th>\n",
       "      <th>Tag</th>\n",
       "      <th>Word_idx</th>\n",
       "      <th>Tag_idx</th>\n",
       "      <th>Sentence</th>\n",
       "    </tr>\n",
       "  </thead>\n",
       "  <tbody>\n",
       "    <tr>\n",
       "      <th>0</th>\n",
       "      <td>1</td>\n",
       "      <td>Comparison</td>\n",
       "      <td>O</td>\n",
       "      <td>7749</td>\n",
       "      <td>2</td>\n",
       "      <td>1.0</td>\n",
       "    </tr>\n",
       "    <tr>\n",
       "      <th>1</th>\n",
       "      <td>2</td>\n",
       "      <td>with</td>\n",
       "      <td>O</td>\n",
       "      <td>3091</td>\n",
       "      <td>2</td>\n",
       "      <td>NaN</td>\n",
       "    </tr>\n",
       "    <tr>\n",
       "      <th>2</th>\n",
       "      <td>3</td>\n",
       "      <td>alkaline</td>\n",
       "      <td>B</td>\n",
       "      <td>1562</td>\n",
       "      <td>1</td>\n",
       "      <td>NaN</td>\n",
       "    </tr>\n",
       "    <tr>\n",
       "      <th>3</th>\n",
       "      <td>4</td>\n",
       "      <td>phosphatases</td>\n",
       "      <td>I</td>\n",
       "      <td>2867</td>\n",
       "      <td>0</td>\n",
       "      <td>NaN</td>\n",
       "    </tr>\n",
       "    <tr>\n",
       "      <th>4</th>\n",
       "      <td>5</td>\n",
       "      <td>and</td>\n",
       "      <td>O</td>\n",
       "      <td>8530</td>\n",
       "      <td>2</td>\n",
       "      <td>NaN</td>\n",
       "    </tr>\n",
       "  </tbody>\n",
       "</table>\n",
       "</div>"
      ],
      "text/plain": [
       "   Length          Word Tag  Word_idx  Tag_idx  Sentence\n",
       "0       1    Comparison   O      7749        2       1.0\n",
       "1       2          with   O      3091        2       NaN\n",
       "2       3      alkaline   B      1562        1       NaN\n",
       "3       4  phosphatases   I      2867        0       NaN\n",
       "4       5           and   O      8530        2       NaN"
      ]
     },
     "execution_count": 4,
     "metadata": {},
     "output_type": "execute_result"
    }
   ],
   "source": [
    "data[\"Sentence\"] = data[\"Length\"]\n",
    "data[\"Sentence\"][data[\"Sentence\"] > 1] = None\n",
    "data.head()\n"
   ]
  },
  {
   "cell_type": "code",
   "execution_count": 5,
   "id": "6a553dbc",
   "metadata": {},
   "outputs": [
    {
     "name": "stderr",
     "output_type": "stream",
     "text": [
      "C:\\Users\\athis\\AppData\\Local\\Temp/ipykernel_10892/1583830238.py:4: SettingWithCopyWarning: \n",
      "A value is trying to be set on a copy of a slice from a DataFrame\n",
      "\n",
      "See the caveats in the documentation: https://pandas.pydata.org/pandas-docs/stable/user_guide/indexing.html#returning-a-view-versus-a-copy\n",
      "  data[\"Sentence\"][j] = sen_no\n"
     ]
    }
   ],
   "source": [
    "sen_no = 1\n",
    "for j, i in enumerate(data[\"Sentence\"]):\n",
    "     if i == 1:\n",
    "         data[\"Sentence\"][j] = sen_no\n",
    "         sen_no += 1\n"
   ]
  },
  {
   "cell_type": "code",
   "execution_count": 6,
   "id": "8c43ed60",
   "metadata": {},
   "outputs": [
    {
     "data": {
      "text/html": [
       "<div>\n",
       "<style scoped>\n",
       "    .dataframe tbody tr th:only-of-type {\n",
       "        vertical-align: middle;\n",
       "    }\n",
       "\n",
       "    .dataframe tbody tr th {\n",
       "        vertical-align: top;\n",
       "    }\n",
       "\n",
       "    .dataframe thead th {\n",
       "        text-align: right;\n",
       "    }\n",
       "</style>\n",
       "<table border=\"1\" class=\"dataframe\">\n",
       "  <thead>\n",
       "    <tr style=\"text-align: right;\">\n",
       "      <th></th>\n",
       "      <th>Length</th>\n",
       "      <th>Word</th>\n",
       "      <th>Tag</th>\n",
       "      <th>Word_idx</th>\n",
       "      <th>Tag_idx</th>\n",
       "      <th>Sentence</th>\n",
       "    </tr>\n",
       "  </thead>\n",
       "  <tbody>\n",
       "    <tr>\n",
       "      <th>0</th>\n",
       "      <td>1</td>\n",
       "      <td>Comparison</td>\n",
       "      <td>O</td>\n",
       "      <td>7749</td>\n",
       "      <td>2</td>\n",
       "      <td>1.0</td>\n",
       "    </tr>\n",
       "    <tr>\n",
       "      <th>1</th>\n",
       "      <td>2</td>\n",
       "      <td>with</td>\n",
       "      <td>O</td>\n",
       "      <td>3091</td>\n",
       "      <td>2</td>\n",
       "      <td>NaN</td>\n",
       "    </tr>\n",
       "    <tr>\n",
       "      <th>2</th>\n",
       "      <td>3</td>\n",
       "      <td>alkaline</td>\n",
       "      <td>B</td>\n",
       "      <td>1562</td>\n",
       "      <td>1</td>\n",
       "      <td>NaN</td>\n",
       "    </tr>\n",
       "    <tr>\n",
       "      <th>3</th>\n",
       "      <td>4</td>\n",
       "      <td>phosphatases</td>\n",
       "      <td>I</td>\n",
       "      <td>2867</td>\n",
       "      <td>0</td>\n",
       "      <td>NaN</td>\n",
       "    </tr>\n",
       "    <tr>\n",
       "      <th>4</th>\n",
       "      <td>5</td>\n",
       "      <td>and</td>\n",
       "      <td>O</td>\n",
       "      <td>8530</td>\n",
       "      <td>2</td>\n",
       "      <td>NaN</td>\n",
       "    </tr>\n",
       "  </tbody>\n",
       "</table>\n",
       "</div>"
      ],
      "text/plain": [
       "   Length          Word Tag  Word_idx  Tag_idx  Sentence\n",
       "0       1    Comparison   O      7749        2       1.0\n",
       "1       2          with   O      3091        2       NaN\n",
       "2       3      alkaline   B      1562        1       NaN\n",
       "3       4  phosphatases   I      2867        0       NaN\n",
       "4       5           and   O      8530        2       NaN"
      ]
     },
     "execution_count": 6,
     "metadata": {},
     "output_type": "execute_result"
    }
   ],
   "source": [
    "data.head()"
   ]
  },
  {
   "cell_type": "code",
   "execution_count": 7,
   "id": "041c6e41",
   "metadata": {},
   "outputs": [],
   "source": [
    "empty = np.where(data[\"Word\"].isna())"
   ]
  },
  {
   "cell_type": "code",
   "execution_count": 8,
   "id": "c4e9300c",
   "metadata": {},
   "outputs": [],
   "source": [
    "empty_rows = list(empty[0])"
   ]
  },
  {
   "cell_type": "code",
   "execution_count": 9,
   "id": "e964eaed",
   "metadata": {},
   "outputs": [],
   "source": [
    "data = data.drop(empty_rows)\n"
   ]
  },
  {
   "cell_type": "code",
   "execution_count": 10,
   "id": "67ac8167",
   "metadata": {},
   "outputs": [
    {
     "data": {
      "text/plain": [
       "(array([], dtype=int64),)"
      ]
     },
     "execution_count": 10,
     "metadata": {},
     "output_type": "execute_result"
    }
   ],
   "source": [
    "np.where(data[\"Word\"].isna())"
   ]
  },
  {
   "cell_type": "code",
   "execution_count": 11,
   "id": "61f4078c",
   "metadata": {},
   "outputs": [
    {
     "data": {
      "text/plain": [
       "Length      False\n",
       "Word        False\n",
       "Tag         False\n",
       "Word_idx    False\n",
       "Tag_idx     False\n",
       "Sentence     True\n",
       "dtype: bool"
      ]
     },
     "execution_count": 11,
     "metadata": {},
     "output_type": "execute_result"
    }
   ],
   "source": [
    "data.isna().any()"
   ]
  },
  {
   "cell_type": "code",
   "execution_count": 12,
   "id": "065a988e",
   "metadata": {},
   "outputs": [
    {
     "data": {
      "text/html": [
       "<div>\n",
       "<style scoped>\n",
       "    .dataframe tbody tr th:only-of-type {\n",
       "        vertical-align: middle;\n",
       "    }\n",
       "\n",
       "    .dataframe tbody tr th {\n",
       "        vertical-align: top;\n",
       "    }\n",
       "\n",
       "    .dataframe thead th {\n",
       "        text-align: right;\n",
       "    }\n",
       "</style>\n",
       "<table border=\"1\" class=\"dataframe\">\n",
       "  <thead>\n",
       "    <tr style=\"text-align: right;\">\n",
       "      <th></th>\n",
       "      <th>Length</th>\n",
       "      <th>Word</th>\n",
       "      <th>Tag</th>\n",
       "      <th>Word_idx</th>\n",
       "      <th>Tag_idx</th>\n",
       "      <th>Sentence</th>\n",
       "    </tr>\n",
       "  </thead>\n",
       "  <tbody>\n",
       "    <tr>\n",
       "      <th>0</th>\n",
       "      <td>1</td>\n",
       "      <td>Comparison</td>\n",
       "      <td>O</td>\n",
       "      <td>7749</td>\n",
       "      <td>2</td>\n",
       "      <td>1.0</td>\n",
       "    </tr>\n",
       "    <tr>\n",
       "      <th>1</th>\n",
       "      <td>2</td>\n",
       "      <td>with</td>\n",
       "      <td>O</td>\n",
       "      <td>3091</td>\n",
       "      <td>2</td>\n",
       "      <td>1.0</td>\n",
       "    </tr>\n",
       "    <tr>\n",
       "      <th>2</th>\n",
       "      <td>3</td>\n",
       "      <td>alkaline</td>\n",
       "      <td>B</td>\n",
       "      <td>1562</td>\n",
       "      <td>1</td>\n",
       "      <td>1.0</td>\n",
       "    </tr>\n",
       "    <tr>\n",
       "      <th>3</th>\n",
       "      <td>4</td>\n",
       "      <td>phosphatases</td>\n",
       "      <td>I</td>\n",
       "      <td>2867</td>\n",
       "      <td>0</td>\n",
       "      <td>1.0</td>\n",
       "    </tr>\n",
       "    <tr>\n",
       "      <th>4</th>\n",
       "      <td>5</td>\n",
       "      <td>and</td>\n",
       "      <td>O</td>\n",
       "      <td>8530</td>\n",
       "      <td>2</td>\n",
       "      <td>1.0</td>\n",
       "    </tr>\n",
       "  </tbody>\n",
       "</table>\n",
       "</div>"
      ],
      "text/plain": [
       "   Length          Word Tag  Word_idx  Tag_idx  Sentence\n",
       "0       1    Comparison   O      7749        2       1.0\n",
       "1       2          with   O      3091        2       1.0\n",
       "2       3      alkaline   B      1562        1       1.0\n",
       "3       4  phosphatases   I      2867        0       1.0\n",
       "4       5           and   O      8530        2       1.0"
      ]
     },
     "execution_count": 12,
     "metadata": {},
     "output_type": "execute_result"
    }
   ],
   "source": [
    "data_fillna = data.fillna(method='ffill', axis=0)\n",
    "data_fillna.head()"
   ]
  },
  {
   "cell_type": "code",
   "execution_count": 13,
   "id": "37d39621",
   "metadata": {},
   "outputs": [
    {
     "name": "stderr",
     "output_type": "stream",
     "text": [
      "C:\\Users\\athis\\AppData\\Local\\Temp/ipykernel_10892/2852414597.py:1: FutureWarning: Indexing with multiple keys (implicitly converted to a tuple of keys) will be deprecated, use a list instead.\n",
      "  data_group = data_fillna.groupby(\n"
     ]
    },
    {
     "data": {
      "text/html": [
       "<div>\n",
       "<style scoped>\n",
       "    .dataframe tbody tr th:only-of-type {\n",
       "        vertical-align: middle;\n",
       "    }\n",
       "\n",
       "    .dataframe tbody tr th {\n",
       "        vertical-align: top;\n",
       "    }\n",
       "\n",
       "    .dataframe thead th {\n",
       "        text-align: right;\n",
       "    }\n",
       "</style>\n",
       "<table border=\"1\" class=\"dataframe\">\n",
       "  <thead>\n",
       "    <tr style=\"text-align: right;\">\n",
       "      <th></th>\n",
       "      <th>Sentence</th>\n",
       "      <th>Length</th>\n",
       "      <th>Word</th>\n",
       "      <th>Tag</th>\n",
       "      <th>Word_idx</th>\n",
       "      <th>Tag_idx</th>\n",
       "    </tr>\n",
       "  </thead>\n",
       "  <tbody>\n",
       "    <tr>\n",
       "      <th>0</th>\n",
       "      <td>1.0</td>\n",
       "      <td>[1, 2, 3, 4, 5, 6, 7, 8, 9]</td>\n",
       "      <td>[Comparison, with, alkaline, phosphatases, and...</td>\n",
       "      <td>[O, O, B, I, O, B, I, I, O]</td>\n",
       "      <td>[7749, 3091, 1562, 2867, 8530, 1622, 9157, 959...</td>\n",
       "      <td>[2, 2, 1, 0, 2, 1, 0, 0, 2]</td>\n",
       "    </tr>\n",
       "    <tr>\n",
       "      <th>1</th>\n",
       "      <td>2.0</td>\n",
       "      <td>[1, 2, 3, 4, 5, 6]</td>\n",
       "      <td>[Pharmacologic, aspects, of, neonatal, hyperbi...</td>\n",
       "      <td>[O, O, O, O, O, O]</td>\n",
       "      <td>[5551, 6300, 5600, 5316, 3696, 2715]</td>\n",
       "      <td>[2, 2, 2, 2, 2, 2]</td>\n",
       "    </tr>\n",
       "    <tr>\n",
       "      <th>2</th>\n",
       "      <td>3.0</td>\n",
       "      <td>[1, 2, 3, 4, 5, 6, 7, 8, 9, 10, 11, 12, 13, 14...</td>\n",
       "      <td>[When, CSF, [, HCO3, -], is, shown, as, a, fun...</td>\n",
       "      <td>[O, O, O, O, O, O, O, O, O, O, O, O, O, O, O, ...</td>\n",
       "      <td>[8787, 6761, 6456, 6526, 6785, 4146, 1304, 381...</td>\n",
       "      <td>[2, 2, 2, 2, 2, 2, 2, 2, 2, 2, 2, 2, 2, 2, 2, ...</td>\n",
       "    </tr>\n",
       "    <tr>\n",
       "      <th>3</th>\n",
       "      <td>4.0</td>\n",
       "      <td>[1, 2, 3, 4, 5, 6, 7, 8, 9, 10, 11, 12, 13, 14...</td>\n",
       "      <td>[Flurazepam, thus, appears, to, be, an, effect...</td>\n",
       "      <td>[O, O, O, O, O, O, O, O, O, O, O, O, O, O, O, ...</td>\n",
       "      <td>[1899, 2103, 1593, 5918, 3467, 1862, 3846, 663...</td>\n",
       "      <td>[2, 2, 2, 2, 2, 2, 2, 2, 2, 2, 2, 2, 2, 2, 2, ...</td>\n",
       "    </tr>\n",
       "    <tr>\n",
       "      <th>4</th>\n",
       "      <td>5.0</td>\n",
       "      <td>[1, 2, 3, 4]</td>\n",
       "      <td>[Beta, blocking, agents, .]</td>\n",
       "      <td>[O, O, O, O]</td>\n",
       "      <td>[3553, 6409, 4822, 2715]</td>\n",
       "      <td>[2, 2, 2, 2]</td>\n",
       "    </tr>\n",
       "  </tbody>\n",
       "</table>\n",
       "</div>"
      ],
      "text/plain": [
       "   Sentence                                             Length  \\\n",
       "0       1.0                        [1, 2, 3, 4, 5, 6, 7, 8, 9]   \n",
       "1       2.0                                 [1, 2, 3, 4, 5, 6]   \n",
       "2       3.0  [1, 2, 3, 4, 5, 6, 7, 8, 9, 10, 11, 12, 13, 14...   \n",
       "3       4.0  [1, 2, 3, 4, 5, 6, 7, 8, 9, 10, 11, 12, 13, 14...   \n",
       "4       5.0                                       [1, 2, 3, 4]   \n",
       "\n",
       "                                                Word  \\\n",
       "0  [Comparison, with, alkaline, phosphatases, and...   \n",
       "1  [Pharmacologic, aspects, of, neonatal, hyperbi...   \n",
       "2  [When, CSF, [, HCO3, -], is, shown, as, a, fun...   \n",
       "3  [Flurazepam, thus, appears, to, be, an, effect...   \n",
       "4                        [Beta, blocking, agents, .]   \n",
       "\n",
       "                                                 Tag  \\\n",
       "0                        [O, O, B, I, O, B, I, I, O]   \n",
       "1                                 [O, O, O, O, O, O]   \n",
       "2  [O, O, O, O, O, O, O, O, O, O, O, O, O, O, O, ...   \n",
       "3  [O, O, O, O, O, O, O, O, O, O, O, O, O, O, O, ...   \n",
       "4                                       [O, O, O, O]   \n",
       "\n",
       "                                            Word_idx  \\\n",
       "0  [7749, 3091, 1562, 2867, 8530, 1622, 9157, 959...   \n",
       "1               [5551, 6300, 5600, 5316, 3696, 2715]   \n",
       "2  [8787, 6761, 6456, 6526, 6785, 4146, 1304, 381...   \n",
       "3  [1899, 2103, 1593, 5918, 3467, 1862, 3846, 663...   \n",
       "4                           [3553, 6409, 4822, 2715]   \n",
       "\n",
       "                                             Tag_idx  \n",
       "0                        [2, 2, 1, 0, 2, 1, 0, 0, 2]  \n",
       "1                                 [2, 2, 2, 2, 2, 2]  \n",
       "2  [2, 2, 2, 2, 2, 2, 2, 2, 2, 2, 2, 2, 2, 2, 2, ...  \n",
       "3  [2, 2, 2, 2, 2, 2, 2, 2, 2, 2, 2, 2, 2, 2, 2, ...  \n",
       "4                                       [2, 2, 2, 2]  "
      ]
     },
     "execution_count": 13,
     "metadata": {},
     "output_type": "execute_result"
    }
   ],
   "source": [
    "data_group = data_fillna.groupby(\n",
    "['Sentence'],as_index=False\n",
    ")['Length', 'Word', 'Tag', 'Word_idx', 'Tag_idx'].agg(lambda x: list(x))\n",
    "# Visualise data\n",
    "data_group.head()"
   ]
  },
  {
   "cell_type": "markdown",
   "id": "a3a337ae",
   "metadata": {},
   "source": [
    "#### Creating train and test tokens\n"
   ]
  },
  {
   "cell_type": "code",
   "execution_count": 14,
   "id": "bfc92239",
   "metadata": {},
   "outputs": [],
   "source": [
    "from sklearn.model_selection import train_test_split\n",
    "from keras.preprocessing.sequence import pad_sequences\n",
    "from tensorflow.keras.utils import to_categorical"
   ]
  },
  {
   "cell_type": "code",
   "execution_count": 15,
   "id": "bfe126ca",
   "metadata": {},
   "outputs": [
    {
     "name": "stdout",
     "output_type": "stream",
     "text": [
      "train_tokens length: 1759 \n",
      "test_tokens length: 196 \n",
      "train_tags: 1759 \n",
      "test_tags: 196\n"
     ]
    }
   ],
   "source": [
    "def get_pad_train_test_val(data_group, data):\n",
    "    n_token = len(list(set(data['Word'].to_list())))\n",
    "    n_tag = len(list(set(data['Tag'].to_list())))\n",
    "    \n",
    "    tokens = data_group['Word_idx'].tolist()\n",
    "    maxlen = max([len(s) for s in tokens])\n",
    "    pad_tokens = pad_sequences(tokens, maxlen=maxlen, dtype='int32', padding='post', value= n_token - 1)\n",
    "    \n",
    "    tags = data_group['Tag_idx'].tolist()\n",
    "    pad_tags = pad_sequences(tags, maxlen=maxlen, dtype='int32', padding='post', value= tag2idx[\"O\"])\n",
    "    \n",
    "    n_tags = len(tag2idx)\n",
    "    pad_tags = [to_categorical(i, num_classes=n_tags) for i in pad_tags]\n",
    "    \n",
    "    \n",
    "    train_tokens, test_tokens, train_tags, test_tags = train_test_split(pad_tokens, pad_tags, test_size=0.1, train_size=0.9, random_state=2020)\n",
    "\n",
    "    print(\n",
    "        'train_tokens length:', len(train_tokens),\n",
    "        '\\ntest_tokens length:', len(test_tokens),\n",
    "        '\\ntrain_tags:', len(train_tags),\n",
    "        '\\ntest_tags:', len(test_tags)\n",
    "    )\n",
    "    \n",
    "    return train_tokens, test_tokens, train_tags, test_tags\n",
    "\n",
    "train_tokens, test_tokens, train_tags, test_tags = get_pad_train_test_val(data_group, data)"
   ]
  },
  {
   "cell_type": "markdown",
   "id": "5ca4f70a",
   "metadata": {},
   "source": [
    "# Model\n"
   ]
  },
  {
   "cell_type": "code",
   "execution_count": 16,
   "id": "7d9ca584",
   "metadata": {},
   "outputs": [],
   "source": [
    "import numpy as np\n",
    "import tensorflow\n",
    "from tensorflow import keras\n",
    "from tensorflow.keras import Sequential, Model, Input\n",
    "from tensorflow.keras.layers import LSTM, Embedding, Dense, TimeDistributed, Dropout, Bidirectional\n",
    "from tensorflow.keras.utils import plot_model\n",
    "import keras\n"
   ]
  },
  {
   "cell_type": "code",
   "execution_count": 17,
   "id": "c9a2b8fc",
   "metadata": {},
   "outputs": [],
   "source": [
    "from numpy.random import seed\n",
    "seed(1)\n",
    "tensorflow.random.set_seed(2)"
   ]
  },
  {
   "cell_type": "code",
   "execution_count": 18,
   "id": "4d9dbccd",
   "metadata": {},
   "outputs": [
    {
     "name": "stdout",
     "output_type": "stream",
     "text": [
      "input_dim:  9233 \n",
      "output_dim:  32 \n",
      "input_length:  143 \n",
      "n_tags:  3\n"
     ]
    }
   ],
   "source": [
    "input_dim = len(list(set(data['Word'].to_list())))+1\n",
    "output_dim = 32\n",
    "input_length = max([len(s) for s in data_group['Word_idx'].tolist()])\n",
    "n_tags = len(tag2idx)\n",
    "print('input_dim: ', input_dim, '\\noutput_dim: ', output_dim, '\\ninput_length: ', input_length, '\\nn_tags: ', n_tags)"
   ]
  },
  {
   "cell_type": "code",
   "execution_count": 19,
   "id": "d8428d41",
   "metadata": {},
   "outputs": [],
   "source": [
    "def get_bilstm_lstm_model():\n",
    "    model = Sequential()\n",
    "\n",
    "    # Add Embedding layer\n",
    "    model.add(Embedding(input_dim=input_dim, output_dim=output_dim, input_length=input_length))\n",
    "\n",
    "    # Add bidirectional LSTM\n",
    "    model.add(Bidirectional(LSTM(units=output_dim, return_sequences=True, dropout=0.2, recurrent_dropout=0.2), merge_mode = 'concat'))\n",
    "\n",
    "    # Add LSTM\n",
    "    model.add(LSTM(units=output_dim, return_sequences=True, dropout=0.5, recurrent_dropout=0.5))\n",
    "\n",
    "    # Add timeDistributed Layer\n",
    "    model.add(TimeDistributed(Dense(n_tags, activation='leaky_relu')))\n",
    "\n",
    "    #Optimiser \n",
    "    adam = tensorflow.keras.optimizers.Adam(lr=0.0005, beta_1=0.9, beta_2=0.999)\n",
    "\n",
    "    # Compile model\n",
    "    model.compile(loss=\"categorical_crossentropy\", optimizer=adam, metrics=['accuracy'])\n",
    "    model.summary()\n",
    "    \n",
    "    return model"
   ]
  },
  {
   "cell_type": "code",
   "execution_count": 20,
   "id": "ead5cb78",
   "metadata": {},
   "outputs": [
    {
     "name": "stdout",
     "output_type": "stream",
     "text": [
      "Model: \"sequential\"\n",
      "_________________________________________________________________\n",
      " Layer (type)                Output Shape              Param #   \n",
      "=================================================================\n",
      " embedding (Embedding)       (None, 143, 32)           295456    \n",
      "                                                                 \n",
      " bidirectional (Bidirectiona  (None, 143, 64)          16640     \n",
      " l)                                                              \n",
      "                                                                 \n",
      " lstm_1 (LSTM)               (None, 143, 32)           12416     \n",
      "                                                                 \n",
      " time_distributed (TimeDistr  (None, 143, 3)           99        \n",
      " ibuted)                                                         \n",
      "                                                                 \n",
      "=================================================================\n",
      "Total params: 324,611\n",
      "Trainable params: 324,611\n",
      "Non-trainable params: 0\n",
      "_________________________________________________________________\n"
     ]
    },
    {
     "name": "stderr",
     "output_type": "stream",
     "text": [
      "C:\\ProgramData\\Anaconda3\\lib\\site-packages\\keras\\optimizer_v2\\adam.py:105: UserWarning: The `lr` argument is deprecated, use `learning_rate` instead.\n",
      "  super(Adam, self).__init__(name, **kwargs)\n"
     ]
    }
   ],
   "source": [
    "def train_model(X, y, model):\n",
    "    loss = list()\n",
    "    for _ in range(15):\n",
    "        # fit model for one epoch on this sequence\n",
    "        hist = model.fit(X, y, batch_size=1000, verbose=1, epochs=1, validation_split=0.2)\n",
    "        loss.append(hist.history['loss'][0])\n",
    "    return loss\n",
    "model_bilstm_lstm = get_bilstm_lstm_model()"
   ]
  },
  {
   "cell_type": "markdown",
   "id": "27167e94",
   "metadata": {},
   "source": [
    "#### Training the model"
   ]
  },
  {
   "cell_type": "code",
   "execution_count": 21,
   "id": "7ba05528",
   "metadata": {},
   "outputs": [
    {
     "name": "stdout",
     "output_type": "stream",
     "text": [
      "2/2 [==============================] - 8s 2s/step - loss: 4.1212 - accuracy: 0.1413 - val_loss: 0.5799 - val_accuracy: 0.9669\n",
      "2/2 [==============================] - 4s 1s/step - loss: 0.6224 - accuracy: 0.7222 - val_loss: 0.3873 - val_accuracy: 0.9850\n",
      "2/2 [==============================] - 4s 1s/step - loss: 0.3716 - accuracy: 0.9679 - val_loss: 0.2901 - val_accuracy: 0.9852\n",
      "2/2 [==============================] - 4s 1s/step - loss: 0.2763 - accuracy: 0.9851 - val_loss: 0.2262 - val_accuracy: 0.9852\n",
      "2/2 [==============================] - 5s 2s/step - loss: 0.2298 - accuracy: 0.9855 - val_loss: 0.2125 - val_accuracy: 0.9852\n",
      "2/2 [==============================] - 5s 2s/step - loss: 0.2108 - accuracy: 0.9856 - val_loss: 0.2185 - val_accuracy: 0.9852\n",
      "2/2 [==============================] - 5s 2s/step - loss: 0.2052 - accuracy: 0.9856 - val_loss: 0.2227 - val_accuracy: 0.9852\n",
      "2/2 [==============================] - 5s 2s/step - loss: 0.2047 - accuracy: 0.9856 - val_loss: 0.2252 - val_accuracy: 0.9852\n",
      "2/2 [==============================] - 5s 2s/step - loss: 0.2032 - accuracy: 0.9856 - val_loss: 0.2217 - val_accuracy: 0.9852\n",
      "2/2 [==============================] - 5s 2s/step - loss: 0.1919 - accuracy: 0.9856 - val_loss: 0.2138 - val_accuracy: 0.9852\n",
      "2/2 [==============================] - 5s 2s/step - loss: 0.1839 - accuracy: 0.9856 - val_loss: 0.2043 - val_accuracy: 0.9852\n",
      "2/2 [==============================] - 5s 2s/step - loss: 0.1751 - accuracy: 0.9856 - val_loss: 0.1895 - val_accuracy: 0.9852\n",
      "2/2 [==============================] - 5s 2s/step - loss: 0.1626 - accuracy: 0.9856 - val_loss: 0.1720 - val_accuracy: 0.9852\n",
      "2/2 [==============================] - 6s 2s/step - loss: 0.1530 - accuracy: 0.9856 - val_loss: 0.1596 - val_accuracy: 0.9852\n",
      "2/2 [==============================] - 6s 2s/step - loss: 0.1426 - accuracy: 0.9856 - val_loss: 0.1372 - val_accuracy: 0.9852\n"
     ]
    }
   ],
   "source": [
    "results = pd.DataFrame()\n",
    "results['with_add_lstm'] = train_model(train_tokens, np.array(train_tags), model_bilstm_lstm)"
   ]
  }
 ],
 "metadata": {
  "kernelspec": {
   "display_name": "Python 3 (ipykernel)",
   "language": "python",
   "name": "python3"
  },
  "language_info": {
   "codemirror_mode": {
    "name": "ipython",
    "version": 3
   },
   "file_extension": ".py",
   "mimetype": "text/x-python",
   "name": "python",
   "nbconvert_exporter": "python",
   "pygments_lexer": "ipython3",
   "version": "3.9.7"
  }
 },
 "nbformat": 4,
 "nbformat_minor": 5
}
